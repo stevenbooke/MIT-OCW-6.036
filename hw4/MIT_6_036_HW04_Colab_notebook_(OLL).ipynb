{
 "cells": [
  {
   "attachments": {
    "image.png": {
     "image/png": "[encoded data removed]"
    }
   },
   "cell_type": "markdown",
   "metadata": {},
   "source": [
    "# MIT 6.036 Spring 2019: Homework 4\n",
    "This homework does not include provided Python code. Instead, we\n",
    "encourage you to write your own code to help you answer some of these\n",
    "problems, and/or test and debug the code components we do ask for.\n",
    "Some of the problems below are simple enough that hand calculation\n",
    "should be possible; your hand solutions can serve as test cases for\n",
    "your code.  You may also find that including utilities written in\n",
    "previous labs (like a `sd` or signed distance function) will be\n",
    "helpful, as you build up additional functions and utilities for\n",
    "calculation of margins, different loss functions, gradients, and other\n",
    "functions needed for margin maximization and gradient descent.\n",
    "\n",
    "## 1) Margin\n",
    "When we train a classifier, it is desirable for the classifier to have a large margin with regard to the points in our data set, in the hope that this will make the classifier more robust to any new points we might see.\n",
    "\n",
    "We have previously defined the margin of a single example (a single data point) with respect to a separator, but that does not directly indicate whether a separator will perform well on a large data set. Thus, we would like to find a score function $S$ for a separator  $(\\theta,\\theta_0)$ such that maximizing $S$ leads to a better separator.\n",
    "\n",
    "Marge Inovera suggests that because big margins are good, we should maximize the sum of the margins. So, she defines:\n",
    "\n",
    "$$ S_{sum}(\\theta, \\theta_0) = \\sum_{i} \\gamma(x^{(i)}, y^{(i)}, \\theta, \\theta_0) $$\n",
    "\n",
    "Minnie Malle suggests that it would be better to just worry about the points closest to the margin, and defines:\n",
    "\n",
    "$$ S_{min}(\\theta, \\theta_0) = \\min_{i} \\gamma(x^{(i)}, y^{(i)}, \\theta, \\theta_0) $$\n",
    "\n",
    "Maxim Argent suggests:\n",
    "\n",
    "$$ S_{max}(\\theta, \\theta_0) = \\max_{i} \\gamma(x^{(i)}, y^{(i)}, \\theta, \\theta_0) $$\n",
    "\n",
    "Recall that the margin of a given point is defined as:\n",
    "\n",
    "$$ \\gamma(x, y, \\theta, \\theta_0) = \\frac {y(\\theta \\cdot x + \\theta_0)}{\\lVert \\theta \\rVert} $$\n",
    "\n",
    "Consider the following data, and two potential separators (red and blue).\n",
    "\n",
    "```\n",
    "data = np.array([[1, 2, 1, 2, 10, 10.3, 10.5, 10.7],\n",
    "                 [1, 1, 2, 2,  2,  2,  2, 2]])\n",
    "labels = np.array([[-1, -1, 1, 1, 1, 1, 1, 1]])\n",
    "blue_th = np.array([[0, 1]]).T\n",
    "blue_th0 = -1.5\n",
    "red_th = np.array([[1, 0]]).T\n",
    "red_th0 = -2.5\n",
    "```\n",
    "\n",
    "The situation is illustrated in the figure below.\n",
    "\n",
    "![image.png](attachment:image.png)\n",
    "\n",
    "## 1A) \n",
    "What are the values of each score $ S_{sum}(\\theta, \\theta_0), \\ S_{min}(\\theta, \\theta_0), \\ S_{max}(\\theta, \\theta_0) $ on the red separator? Enter a Python list of three numbers.\n",
    "\n",
    "$[31.5, -1.5, 8.2]$\n",
    "\n",
    "## 1B) \n",
    "What are the values of each score $ S_{sum}(\\theta, \\theta_0), \\ S_{min}(\\theta, \\theta_0), \\ S_{max}(\\theta, \\theta_0) $ on the blue separator? Enter a Python list of three numbers.\n",
    "\n",
    "$[4.0, 0.5, 0.5]$\n",
    "\n",
    "## 1C) \n",
    "Which of these separators maximizes $ S_{sum} $?\n",
    "\n",
    "Red.\n",
    "\n",
    "## 1D) \n",
    "Which of these separators maximizes $ S_{min} $?\n",
    "\n",
    "Blue.\n",
    "\n",
    "## 1E) \n",
    "Which of these separators maximizes $ S_{max} $?\n",
    "\n",
    "Red.\n",
    "\n",
    "## 1F)\n",
    "Which score function should we prefer if our goal is to find a separator that generalizes better to new data?\n",
    "\n",
    "$S_{min}$"
   ]
  },
  {
   "cell_type": "code",
   "execution_count": 3,
   "metadata": {},
   "outputs": [
    {
     "name": "stdout",
     "output_type": "stream",
     "text": [
      "[31.5, -1.5, 8.2]\n",
      "[4.0, 0.5, 0.5]\n"
     ]
    }
   ],
   "source": [
    "import numpy as np\n",
    "\n",
    "def sd(x, theta, theta_0):\n",
    "    return (theta.T@x + theta_0) / np.linalg.norm(theta)\n",
    "\n",
    "def margin(x, y, theta, theta_0):\n",
    "    return y*sd(x, theta, theta_0)\n",
    "\n",
    "def sum_of_margins(x, y, theta, theta_0):\n",
    "    return np.sum(margin(x, y, theta, theta_0))\n",
    "    \n",
    "def min_of_margins(x, y, theta, theta_0):\n",
    "    return np.min(margin(x, y, theta, theta_0))\n",
    "    \n",
    "def max_of_margins(x, y, theta, theta_0):\n",
    "    return np.max(margin(x, y, theta, theta_0))\n",
    "\n",
    "data = np.array([[1, 2, 1, 2, 10, 10.3, 10.5, 10.7],\n",
    "                 [1, 1, 2, 2,  2,  2,  2, 2]])\n",
    "labels = np.array([[-1, -1, 1, 1, 1, 1, 1, 1]])\n",
    "blue_th = np.array([[0, 1]]).T\n",
    "blue_th0 = -1.5\n",
    "red_th = np.array([[1, 0]]).T\n",
    "red_th0 = -2.5\n",
    "\n",
    "# 1A\n",
    "score_functions = [sum_of_margins, min_of_margins, max_of_margins]\n",
    "scores = []\n",
    "for score_function in score_functions:\n",
    "    scores += [score_function(data, labels, red_th, red_th0)]\n",
    "print(scores)\n",
    "\n",
    "# 1B\n",
    "scores = []\n",
    "for score_function in score_functions:\n",
    "    scores += [score_function(data, labels, blue_th, blue_th0)]\n",
    "print(scores)"
   ]
  },
  {
   "cell_type": "markdown",
   "metadata": {},
   "source": [
    "## 2) What a loss\n",
    "Based on the previous part, we've decided to try to find a linear separator $(\\theta,\\theta_0)$ that __maximizes__ the __minimum margin__ (the distance between the separator and the points that come closest to it.) We define the margin of a data set $(X,Y)$, with respect to a separator as:\n",
    "\n",
    "$$ \\gamma(X, Y, \\theta, \\theta_0) = \\min_{i} \\gamma(x^{(i)}, y^{(i)}, \\theta, \\theta_0) $$\n",
    "\n",
    "As discussed in the [notes](https://openlearninglibrary.mit.edu/courses/course-v1:MITx+6.036+1T2019/courseware/Week4/margin_maximization/3), an approach to this problem is to specify a value $\\gamma_{ref}$ for the margin of the data set, and then seek to find a linear separator that maximizes $\\gamma_{ref}$.\n",
    "\n",
    "## 2A)\n",
    "We can think about a (not necessarily maximal) margin $\\gamma_{ref}$ for the data set as a value such that:\n",
    "\n",
    "For every point $x^{(i)}, y^{(i)}$, we have $\\gamma(x^{(i)}, y^{(i)}, \\theta, \\theta_0) \\geq \\gamma_{ref}$\n",
    "\n",
    "## 2B)\n",
    "Suppose for our data set we find that the maximum $\\gamma_{ref}$ across all linear separators is 0. Is our data linearly separable?\n",
    "\n",
    "No.\n",
    "\n",
    "\n",
    "## 2C)\n",
    "For this subproblem, assume that $\\gamma_{ref} \\gt 0$ (i.e., the data is linearly separable). Note that in this case, the Perceptron algorithm is guaranteed to find a separator that correctly classifies all of the data points. What is the __largest minimum margin__ guaranteed by running the Perceptron algorithm on a data set that has a maximum margin equal to $\\gamma_{ref} \\gt 0$?\n",
    "\n",
    "Some $\\epsilon$ where $\\epsilon \\gt 0$\n",
    "\n",
    "Now we want to improve on the (infinitesimally small) guaranteed margin of the Perceptron algorithm. We saw in the lecture that a powerful way of designing learning algorithms is to [describe them as optimization problems](https://openlearninglibrary.mit.edu/courses/course-v1:MITx+6.036+1T2019/courseware/Week4/margin_maximization/1), then use relatively general-purpose optimization strategies to solve them.\n",
    "\n",
    "A typical form of the optimization problem is to minimize an objective that has the form:\n",
    "\n",
    "$$ J(\\theta, \\theta_0) = \\frac{1}{n} \\sum_{i=1}^{n} L(x^{(i)}, y^{(i)}, \\theta, \\theta_0) + \\lambda R(\\theta, \\theta_0) $$\n",
    "\n",
    "where $L$ is a per-point loss function that characterizes how much error was made by the hypothesis $(\\theta, \\theta_0)$ on the point, and $R$ is a regularizer that describes some prior knowledge or general preference over hypotheses.\n",
    "\n",
    "We first consider the objective of finding a maximum-margin separator using the format above, using the so-called \"zero-infinity\" loss, $L_{0, \\infty}$:\n",
    "\n",
    "$$ L_{0, \\infty}(\\gamma(x^{(i)}, y^{(i)}, \\theta, \\theta_0), \\gamma_{ref}) = \n",
    "\\begin{cases}\n",
    "    \\infty, & \\text{if } \\gamma(x, y, \\theta, \\theta_0) \\lt \\gamma_{ref} \\\\\n",
    "    0, & \\text{otherwise}\n",
    "\\end{cases} $$\n",
    "\n",
    "## 2D)\n",
    "For a linearly separable data set, positive $\\lambda$ and positive $R$ given nonzero $\\theta$ what is true about the __minimal__ value of $J_{0,\\infty}$?\n",
    "\n",
    "It is always finite and positive.\n",
    "\n",
    "## 2E)\n",
    "For a __non__ linearly separable data set, and positive $\\lambda$ and $\\gamma_{ref}$, what is true about the __minimal__ value of $J_{0,\\infty}$?\n",
    "\n",
    "It is infinite.\n"
   ]
  },
  {
   "attachments": {
    "image.png": {
     "image/png": "[encoded data removed]"
    }
   },
   "cell_type": "markdown",
   "metadata": {},
   "source": [
    "## 3) Simply inseparable\n",
    "We would prefer a loss function that helps steer optimization toward a solution, in the case when the data is linearly separable. Furthermore, in real data sets it is relatively rare that the data is linearly separable, so our algorithm should be able to handle this case also and still work toward an optimal, though imperfect, linear separator. Instead of using $(0, \\infty)$ loss, we should design a loss function that will let us \"relax\" the constraint that all of the points have margin bigger than $\\gamma_{ref}$, while still encouraging large margins.\n",
    "\n",
    "The hinge loss is one such more relaxed loss function; we will define it in a way that makes a connection to the problem we are facing:\n",
    "\n",
    "$$ L_{h}(\\frac{\\gamma(x, y, \\theta, \\theta_0)}{\\gamma_{ref}}) =\n",
    "\\begin{cases}\n",
    "    1 - \\frac{\\gamma(x, y, \\theta, \\theta_0)}{\\gamma_{ref}}, & \\text{if } \\gamma(x, y, \\theta, \\theta_0) \\lt \\gamma_{ref} \\\\\n",
    "    0, & \\text{otherwise}\n",
    "\\end{cases} $$\n",
    "\n",
    "When the margin of the point is greater than or equal to $\\gamma_{ref}$, we are happy and the loss is 0; while when the margin is less than $\\gamma_{ref}$, we have a positive loss that increases the further away the margin is from $\\gamma_{ref}$.\n",
    "\n",
    "## 3A) \n",
    "Given this definition, if $\\gamma_{ref}$ is positive what can we say about $L_{h}(\\frac{\\gamma(x, y, \\theta, \\theta_0)}{\\gamma_{ref}})$, no matter what finite values $\\theta$ and $\\theta_0$ take on?\n",
    "\n",
    "It is always >= 0.\n",
    "\n",
    "Here is a separator and three points. The dotted lines represent the margins determined by $\\gamma_{ref}$.\n",
    "\n",
    "```\n",
    "data = np.array([[1.1, 1, 4],[3.1, 1, 2]])\n",
    "labels = np.array([[1, -1, -1]])\n",
    "th = np.array([[1, 1]]).T\n",
    "th0 = -4\n",
    "```\n",
    "\n",
    "![image.png](attachment:image.png)\n",
    "\n",
    "## 3B)\n",
    "What is $ L_{h}(\\frac{\\gamma(x, y, \\theta, \\theta_0)}{\\gamma_{ref}})$ for each point, where $\\gamma_{ref} = \\frac{\\sqrt{2}}{2}$? Enter the values in the same order as the respective points are listed in data. You can do this computationally or by hand. Enter the three hinge loss values in order as a Python list of three numbers:\n",
    "\n",
    "$[0.8, 0.,  3. ]$\n"
   ]
  },
  {
   "cell_type": "code",
   "execution_count": 10,
   "metadata": {},
   "outputs": [
    {
     "name": "stdout",
     "output_type": "stream",
     "text": [
      "[[0.8 0.  3. ]]\n"
     ]
    }
   ],
   "source": [
    "# 3B\n",
    "def hinge_losses(x, y, theta, theta_0, margin_ref):\n",
    "    loss = np.vectorize(lambda x: 1 - (x/margin_ref) if x < margin_ref else 0)\n",
    "    return loss(margin(x, y, theta, theta_0))\n",
    "\n",
    "data = np.array([[1.1, 1, 4],[3.1, 1, 2]])\n",
    "labels = np.array([[1, -1, -1]])\n",
    "th = np.array([[1, 1]]).T\n",
    "th0 = -4\n",
    "margin_ref = (2**0.5)/2\n",
    "\n",
    "print(hinge_losses(data, labels, th, th0, margin_ref))"
   ]
  },
  {
   "attachments": {},
   "cell_type": "markdown",
   "metadata": {},
   "source": [
    "## 4) It hinges on the loss\n",
    "Putting hinge loss and regularization together, we can look at regularized average hinge loss:\n",
    "\n",
    "$$ \\frac{1}{n} \\sum_{i=1}^{n} L_{h}(\\frac{\\gamma(x^{(i)}, y^{(i)}, \\theta, \\theta_0}{\\gamma_{ref}}) + \\lambda \\frac{1}{\\gamma_{ref}^2} $$\n",
    "\n",
    "We only need to minimize this over two parameters $\\theta, \\theta_0$, since the third parameter $\\gamma_{ref}$ can be expressed as $\\frac{1}{\\lVert \\theta \\rVert}$, as they both represent the distance from the decision boundary to the margin boundary. Plugging in $\\gamma_{ref} = \\frac{1}{\\lVert \\theta \\rVert}$ and also expanding $\\gamma$, we arrive at the SVM (support vector machine) objective:\n",
    "\n",
    "$$ J(\\theta, \\theta_0) = \\frac{1}{n} \\sum_{i=1}^{n} L_{h}(y^{(i)}(\\theta^Tx^{(i)} + \\theta_0)) +\\lambda \\lVert \\theta \\rVert ^2$$\n",
    "\n",
    "## 4A)\n",
    "If the data is linearly separable and we use the SVM objective, if we now let $\\lambda = 0$ and find the minimizing values of $\\theta, \\theta_0$, what will happen?\n",
    "\n",
    "The minimal objective value will be 0.\n",
    "\n",
    "## 4B) \n",
    "Consider the following plots of separators. They are for $\\lambda$ values of 0 and 0.001. Match each $\\lambda$ to a plot. Enter a Python list with the values of $\\lambda$ for the two graphs below.\n",
    "\n",
    "$[0.001, 0]$\n",
    "\n",
    "<div style=\"display:flex;\"><img src=\"https://introml_oll.odl.mit.edu/cat-soop/_static/6.036/homework/hw04/lamb_A.png\" style=\"width:50%;\"><img src=\"https://introml_oll.odl.mit.edu/cat-soop/_static/6.036/homework/hw04/lamb_B.png\" style=\"width:50%;\"></div>\n",
    "\n",
    "## 4C)\n",
    "Consider the following three plots of separators. They are for $\\lambda$ values of 0, 0.001, and 0.03. Match to the plot. Enter a Python list with the values of $\\lambda$ for the three graphs below.\n",
    "\n",
    "$[0.03, 0, 0.001]$\n",
    "\n",
    "<div style=\"display:flex;\"><img src=\"https://introml_oll.odl.mit.edu/cat-soop/_static/6.036/homework/hw04/bada_A.png\" style=\"width:33%;\"><img src=\"https://introml_oll.odl.mit.edu/cat-soop/_static/6.036/homework/hw04/bada_B.png\" style=\"width:33%;\"><img src=\"https://introml_oll.odl.mit.edu/cat-soop/_static/6.036/homework/hw04/bada_C.png\" style=\"width:33%;\"></div>\n",
    "\n"
   ]
  },
  {
   "cell_type": "code",
   "execution_count": 11,
   "metadata": {},
   "outputs": [
    {
     "name": "stdout",
     "output_type": "stream",
     "text": [
      "2.409602165190182\n",
      "2.567739315055543\n",
      "1.4204927238739404\n",
      "4.525230920153827\n",
      "4.131878940912039\n"
     ]
    }
   ],
   "source": [
    "# 4B\n",
    "print(np.linalg.norm(np.array([[-0.0737901], [2.40847205]])))\n",
    "print(np.linalg.norm(np.array([[-0.23069578], [2.55735501]])))\n",
    "\n",
    "# 4C\n",
    "print(np.linalg.norm(np.array([[0.01280916], [-1.42043497]])))\n",
    "print(np.linalg.norm(np.array([[0.45589866], [-4.50220738]])))\n",
    "print(np.linalg.norm(np.array([[0.04828952], [-4.13159675]])))"
   ]
  },
  {
   "cell_type": "markdown",
   "metadata": {},
   "source": [
    "## 5) Linear Support Vector Machines\n",
    "The training objective for the Support Vector Machine (with slack) can be seen as optimizing a balance between the average hinge loss over the examples and a regularization term that tries to keep $\\theta$ small (or equivalently, increase the margin). This balance is set by the regularization parameter $\\lambda$. Here we only consider the case without the offset parameter $\\theta_0$  (setting it to zero) and rewrite the training objective as an average so that it is given by\n",
    "\n",
    "$$\n",
    " \\left[  \\frac{1}{n} \\sum_{i=1}^{n} L_{h}(y^{(i)}\\theta \\cdot x^{(i)}) \\right] + \\frac{\\lambda}{2}\\lVert \\theta \\rVert ^2 = \\frac{1}{n} \\sum_{i=1}^{n} \\left[ L_{h}(y^{(i)}\\theta \\cdot x^{(i)}) + \\frac{\\lambda}{2}\\lVert \\theta \\rVert ^2 \\right]\n",
    "$$\n",
    "\n",
    "\n",
    "\n",
    "where $ L_{h}(y(\\theta \\cdot x)) = \\max\\left\\{0,1-y(\\theta \\cdot x)\\right\\} $ is the hinge loss. (Note that we will also sometimes write the hinge loss as $ L_{h}(v) = \\max\\left\\{0,1-v\\right\\} $. Now we can minimize the above overall objective function with the Pegasos algorithm that iteratively selects a training point at random and applies a gradient descent update rule based on the corresponding term inside the brackets on the right hand side.\n",
    "\n",
    "In this problem we will optimize the training objective using a single training example, so that we can gain a better understanding of how the regularization parameter, $\\lambda$, affects the result. To this end, we refer to the single training example as the feature vector and label pair, $(x, y)$. We will then try to find a $\\theta$ that minimizes\n",
    "\n",
    "$$ J_{\\lambda}^1(\\theta) \\equiv  L_{h}(y(\\theta \\cdot x)) + \\frac{\\lambda}{2}\\lVert \\theta \\rVert ^2 $$\n",
    "\n",
    "In the next subparts, we will try to show that the $\\theta$ minimizing $J_{\\lambda}^1$, denoted $\\hat{\\theta}$ is necessarily of the form \n",
    "\n",
    "$$\\hat{\\theta} = \\eta yx$$ \n",
    "\n",
    "for some real $\\eta \\gt 0$\n",
    "\n",
    "In the expressions below, you can use `lambda` to stand for $\\lambda$, `x` to stand for $x$, `transpose(x)` for transpose of an array, `norm(x)` for the length (norm) of a vector, `x@y` to indicate a matrix product of two arrays, and `x*y` for elementwise (or scalar) multiply.\n",
    "\n",
    "## 5A) \n",
    "Consider first the case where the loss is positive: $L_{h}(y(\\theta \\cdot x)) \\gt 0$. We can minimize $J_{\\lambda}^1$ with respect to $\\theta$ by computing a formula for its gradient with respect to $\\theta$, and then solving for the $\\theta$ for which the gradient is equal to 0. Let us denote that value as $\\hat{\\theta}$. Enter and expression for $\\hat{\\theta}$.\n",
    "\n",
    "$$\n",
    "\\begin{align*}\n",
    "    \\hat{\\theta} &= \\frac{\\partial J_{\\lambda}^1}{\\partial \\theta} \\\\\n",
    "    \\hat{\\theta} &= \\frac{\\partial }{\\partial \\theta} (1-y(\\theta \\cdot x)) + \\frac{\\partial}{\\partial \\theta} \\frac{\\lambda}{2} \\lVert \\theta \\rVert ^2 \\\\\n",
    "    \\hat{\\theta} &= -yx + 2 \\frac{\\lambda}{2} \\theta \\\\\n",
    "    \\hat{\\theta} &= -yx + 2 \\lambda \\theta\n",
    "\\end{align*}\n",
    "$$\n",
    "\n",
    "## 5B) \n",
    "Now find the smallest (in the norm sense) $\\hat{\\theta}$ for which $L_{h}(y(\\theta \\cdot x)) = 0$\n",
    "Note: Be careful -- you cannot simply divide by a vector! Enter your answer as a Python expression.\n",
    "\n",
    "$$\n",
    "\\begin{align*}\n",
    "    0 &= 1-y(\\theta \\cdot x) \\\\\n",
    "    1 &= y(\\theta \\cdot x) \\\\\n",
    "    \\frac{1}{y} &= \\theta \\cdot x \\\\\n",
    "    y \\cdot x &= \\theta (x \\cdot x) \\\\\n",
    "    y \\cdot x &= \\theta \\lVert x \\rVert ^2 \\\\\n",
    "    \\theta &= \\frac{xy}{\\lVert x \\rVert ^2}\n",
    "\\end{align*}\n",
    "$$\n",
    "\n",
    "## 5C) \n",
    "Let $\\hat{\\theta} = \\hat{\\theta}(\\lambda)$ be the minimizer of $J_{\\lambda}^1$. Is it possible to pick a value for $\\lambda$ so that the training example $(x, y)$ wil be misclassified by $\\hat{\\theta}(\\lambda)$? To answer this question, recall that a point is misclassified when $y(\\theta \\cdot x) \\leq 0$. Use your result from part 5A where you found the $\\hat{\\theta}$ that minimizes $J_{\\lambda}^1$ to write an expression for $y(\\hat{\\theta} \\cdot x)$ in terms $x$, $y$ and $\\lambda$.\n",
    "\n",
    "$$ \\frac{y^2}{\\lambda}\\lVert x \\rVert ^2 $$\n",
    "\n",
    "## 5D)\n",
    "Under what conditions is $y(\\hat{\\theta} \\cdot x) \\leq 0$? Select all that are true.\n",
    "\n",
    "$\\lambda = \\infty, x = 0$\n",
    "\n",
    "## 5E) \n",
    "You will notice that if $y(\\hat{\\theta} \\cdot x) \\leq 0$, then $\\hat{\\theta}$ will misclassify $x$. The above result shows that our optimal classifier $\\hat{\\theta}$ won't misclassify (except in edge cases); however, we might still be concerned about correctly classified points that are \"too close\" to the separator, and thereby increase our regularized loss function.\n",
    "\n",
    "Suppose we have a linear classifier described by $\\theta$. We say a correctly classified datapoint $\\hat{x}, \\hat{y}$ is on the margin boundary of the classifier if \n",
    "\n",
    "$$\\hat{y}(\\theta \\cdot \\hat{x}) = 1$$\n",
    "\n",
    "When a classifier is determined by minimizing a regularized loss function with a single training example, like $J_{\\lambda}^1$ above, too much regularization can result in a classifier that puts a correctly classified training point _inside_ the margin, and thus incur hinge loss. That is, if we have a single training example $(x,y)$ and regularize with a $\\lambda$ that is too large, we may discover that $y(\\hat{\\theta} \\cdot x) \\lt 1$. Fortunately, for this single training example case, we can ensure that $\\lambda$ is not too large.\n",
    "Write an expression for the maximum value of $\\lambda$, in terms of $x$ and $y$, that ensures that the $(x,y)$ example is NOT inside the margin:\n",
    "\n",
    "$$\n",
    "\\begin{align*}\n",
    "    1 & \\le \\frac{y^2 \\lVert x \\rVert ^2}{\\lambda} \\\\\n",
    "    \\lambda & \\le y^2 \\lVert x \\rVert ^2\n",
    "\\end{align*}\n",
    "$$\n",
    "\n",
    "\n",
    "So, where are we? We now have a good objective function, the SVM objective, that will strive to correctly classify data points, but also seek to maximize the margin (minimize the norm of $\\theta$), given a judicious choice of $\\lambda$. This objective function can be used in either batch optimization (calculating average losses across the whole data set), or on a data point by data point basis. This gives us powerful flexibility in optimizing (minimizing) this objective function using gradient descent, which we will consider next."
   ]
  },
  {
   "cell_type": "markdown",
   "metadata": {
    "id": "jUS51a8m5rEI"
   },
   "source": [
    "## 6) Implementing gradient descent\n",
    "In this section we will implement generic versions of gradient descent and apply these to the SVM objective.\n",
    "\n",
    "<b>Note: </b> If you need a refresher on gradient descent,\n",
    "you may want to reference\n",
    "<a href=\"https://openlearninglibrary.mit.edu/courses/course-v1:MITx+6.036+1T2019/courseware/Week4/gradient_descent/2\">this week's notes</a>.\n",
    "\n",
    "### 6.1) Implementing Gradient Descent\n",
    "We want to find the $x$ that minimizes the value of the *objective\n",
    "function* $f(x)$, for an arbitrary scalar function $f$.  The function\n",
    "$f$ will be implemented as a Python function of one argument, that\n",
    "will be a numpy column vector.  For efficiency, we will work with\n",
    "Python functions that return not just the value of $f$ at $f(x)$ but\n",
    "also return the gradient vector at $x$, that is, $\\nabla_x f(x)$.\n",
    "\n",
    "We will now implement a generic gradient descent function, `gd`, that\n",
    "has the following input arguments:\n",
    "\n",
    "* `f`: a function whose input is an `x`, a column vector, and\n",
    "  returns a scalar.\n",
    "* `df`: a function whose input is an `x`, a column vector, and\n",
    "  returns a column vector representing the gradient of `f` at `x`.\n",
    "* `x0`: an initial value of $x$, `x0`, which is a column vector.\n",
    "* `step_size_fn`: a function that is given the iteration index (an\n",
    "  integer) and returns a step size.\n",
    "* `max_iter`: the number of iterations to perform\n",
    "\n",
    "Our function `gd` returns a tuple:\n",
    "\n",
    "* `x`: the value at the final step\n",
    "* `fs`: the list of values of `f` found during all the iterations (including `f(x0)`)\n",
    "* `xs`: the list of values of `x` found during all the iterations (including `x0`)\n",
    "\n",
    "**Hint:** This is a short function!\n",
    "\n",
    "**Hint 2:** If you do `temp_x = x` where `x` is a vector\n",
    "(numpy array), then `temp_x` is just another name for the same vector\n",
    "as `x` and changing an entry in one will change an entry in the other.\n",
    "You should either use `x.copy()` or remember to change entries back after modification.\n",
    "\n",
    "Some utilities you may find useful are included below."
   ]
  },
  {
   "cell_type": "code",
   "execution_count": 12,
   "metadata": {
    "id": "fYOF0HS34YOj"
   },
   "outputs": [],
   "source": [
    "def rv(value_list):\n",
    "    return np.array([value_list])\n",
    "\n",
    "def cv(value_list):\n",
    "    return np.transpose(rv(value_list))\n",
    "\n",
    "def f1(x):\n",
    "    return float((2 * x + 3)**2)\n",
    "\n",
    "def df1(x):\n",
    "    return 2 * 2 * (2 * x + 3)\n",
    "\n",
    "def f2(v):\n",
    "    x = float(v[0]); y = float(v[1])\n",
    "    return (x - 2.) * (x - 3.) * (x + 3.) * (x + 1.) + (x + y -1)**2\n",
    "\n",
    "def df2(v):\n",
    "    x = float(v[0]); y = float(v[1])\n",
    "    return cv([(-3. + x) * (-2. + x) * (1. + x) + \\\n",
    "               (-3. + x) * (-2. + x) * (3. + x) + \\\n",
    "               (-3. + x) * (1. + x) * (3. + x) + \\\n",
    "               (-2. + x) * (1. + x) * (3. + x) + \\\n",
    "               2 * (-1. + x + y),\n",
    "               2 * (-1. + x + y)])"
   ]
  },
  {
   "cell_type": "markdown",
   "metadata": {
    "id": "s03NFuxG6kvt"
   },
   "source": [
    "The main function to implement is `gd`, defined below."
   ]
  },
  {
   "cell_type": "code",
   "execution_count": 13,
   "metadata": {
    "id": "mNsLE3bg6jt9"
   },
   "outputs": [],
   "source": [
    "def gd(f, df, x0, step_size_fn, max_iter):\n",
    "    x = x0\n",
    "    fs = []\n",
    "    xs = []\n",
    "    for i in range(max_iter):\n",
    "        f_val = f(x)\n",
    "        gradient_at_x = df(x)\n",
    "        fs += [f_val]\n",
    "        xs += [x]\n",
    "        x = x - step_size_fn(i)*gradient_at_x\n",
    "    return (x, fs, xs)"
   ]
  },
  {
   "cell_type": "markdown",
   "metadata": {
    "id": "jXu60n-H5_Hz"
   },
   "source": [
    "To evaluate results, we also use a simple `package_ans` function,\n",
    "which checks the final `x`, as well as the first and last values in\n",
    "`fs`, `xs`."
   ]
  },
  {
   "cell_type": "code",
   "execution_count": 14,
   "metadata": {
    "id": "GJcClaqN4nE6"
   },
   "outputs": [],
   "source": [
    "def package_ans(gd_vals):\n",
    "    x, fs, xs = gd_vals\n",
    "    return [x.tolist(), [fs[0], fs[-1]], [xs[0].tolist(), xs[-1].tolist()]]"
   ]
  },
  {
   "cell_type": "markdown",
   "metadata": {
    "id": "aN_XbacQ6Rue"
   },
   "source": [
    "The test cases are provided below, but you should feel free (and are encouraged!) to write more of your own."
   ]
  },
  {
   "cell_type": "code",
   "execution_count": 16,
   "metadata": {
    "id": "jq0OJLEf6Dan"
   },
   "outputs": [
    {
     "name": "stdout",
     "output_type": "stream",
     "text": [
      "[[[-1.5]], [9.0, 0.0], [[[0.0]], [[-1.5]]]]\n",
      "[[[-2.2058239041648853], [3.205823890926977]], [19.0, -20.96723961134875], [[[0.0], [0.0]], [[-2.2058239041540233], [3.2058238906570375]]]]\n"
     ]
    }
   ],
   "source": [
    "# Test case 1\n",
    "ans=package_ans(gd(f1, df1, cv([0.]), lambda i: 0.1, 1000))\n",
    "print(ans)\n",
    "\n",
    "# Test case 2\n",
    "ans=package_ans(gd(f2, df2, cv([0., 0.]), lambda i: 0.01, 1000))\n",
    "print(ans)"
   ]
  },
  {
   "cell_type": "markdown",
   "metadata": {
    "id": "pbuSt5hY645k"
   },
   "source": [
    "### 6.2) Numerical Gradient\n",
    "Getting the analytic gradient correct for complicated functions is\n",
    "tricky.  A very handy method of verifying the analytic gradient or\n",
    "even substituting for it is to estimate the gradient at a point by\n",
    "means of *finite differences*.\n",
    "\n",
    "Assume that we are given a function $f(x)$ that takes a column vector\n",
    "as its argument and returns a scalar value.  In gradient descent, we\n",
    "will want to estimate the gradient of $f$ at a particular $x_0.$\n",
    "\n",
    "The $i^{th}$ component of $\\nabla_x f(x_0)$ can be estimated as\n",
    "$$\\frac{f(x_0+\\delta^{i}) - f(x_0-\\delta^{i})}{2\\delta}$$\n",
    "where $\\delta^{i}$ is a column vector whose $i^{th}$ coordinate is\n",
    "$\\delta$, a small constant such as 0.001, and whose other components\n",
    "are zero.\n",
    "Note that adding or subtracting $\\delta^{i}$ is the same as\n",
    "incrementing or decrementing the $i^{th}$ component of $x_0$ by\n",
    "$\\delta$, leaving the other components of $x_0$ unchanged.  Using\n",
    "these results, we can estimate the $i^{th}$ component of the gradient.\n",
    "\n",
    "For example, if $x_0 = (1,1,\\dots,1)^T$ and $\\delta = 0.01$,\n",
    "we may approximate the first component of $\\nabla_x f(x_0)$ as\n",
    "$$\\frac{f((1,1,1,\\dots)^T+(0.01,0,0,\\dots)^T) - f((1,1,1,\\dots)^T-(0.01,0,0,\\dots)^T)}{2\\cdot 0.01}.$$\n",
    "(We add the transpose so that these are column vectors.)\n",
    "**This process should be done for each dimension independently,\n",
    "and together the results of each computation are compiled to give the\n",
    "estimated gradient, which is $d$ dimensional.**\n",
    "\n",
    "Implement this as a function `num_grad` that takes as arguments the\n",
    "objective function `f` and a value of `delta`, and returns a new\n",
    "**function** that takes an `x` (a column vector of parameters) and\n",
    "returns a gradient column vector.\n",
    "\n",
    "**Note:** As in the previous part, make sure you do not modify your input vector."
   ]
  },
  {
   "cell_type": "code",
   "execution_count": 18,
   "metadata": {
    "id": "WPVwGZ-l6XvW"
   },
   "outputs": [],
   "source": [
    "def num_grad(f, delta=0.001):\n",
    "    def df(x):\n",
    "        def estimate_gradient(column_partial):\n",
    "            d = len(column_partial)\n",
    "            column_partial = column_partial.reshape((d, 1))\n",
    "            return (f(x+column_partial) - f(x-column_partial)) / (2*delta)\n",
    "        d, _ = x.shape\n",
    "        deltas = np.eye(d)*delta\n",
    "        return np.apply_along_axis(estimate_gradient, axis=0, arr=deltas).reshape((d, 1))\n",
    "    return df"
   ]
  },
  {
   "cell_type": "markdown",
   "metadata": {
    "id": "kElTR0bL7cbG"
   },
   "source": [
    "The test cases are shown below; these use the functions defined in the previous exercise.\n"
   ]
  },
  {
   "cell_type": "code",
   "execution_count": 20,
   "metadata": {
    "id": "3D7BHu4S7Z8D"
   },
   "outputs": [
    {
     "name": "stdout",
     "output_type": "stream",
     "text": [
      "([[11.999999999998678]], [[0.0]])\n",
      "([[12.799999999999478]], [[0.1]])\n",
      "([[6.99999899999959], [-2.000000000000668]], [[0.0], [0.0]])\n",
      "([[4.7739994000011166], [-2.000000000000668]], [[0.1], [-0.1]])\n"
     ]
    }
   ],
   "source": [
    "x = cv([0.])\n",
    "ans=(num_grad(f1)(x).tolist(), x.tolist())\n",
    "print(ans)\n",
    "\n",
    "x = cv([0.1])\n",
    "ans=(num_grad(f1)(x).tolist(), x.tolist())\n",
    "print(ans)\n",
    "\n",
    "x = cv([0., 0.])\n",
    "ans=(num_grad(f2)(x).tolist(), x.tolist())\n",
    "print(ans)\n",
    "\n",
    "x = cv([0.1, -0.1])\n",
    "ans=(num_grad(f2)(x).tolist(), x.tolist())\n",
    "print(ans)"
   ]
  },
  {
   "cell_type": "markdown",
   "metadata": {
    "id": "WASaSsYu75sG"
   },
   "source": [
    "A faster (one function evaluation per entry), though sometimes less\n",
    "accurate, estimate is to use:\n",
    "$$\\frac{f(x_0+\\delta^{i}) - f(x_0)}{\\delta}$$\n",
    "for the $i^{th}$ component of $\\nabla_x f(x_0).$"
   ]
  },
  {
   "cell_type": "markdown",
   "metadata": {
    "id": "E31sdqyG78jD"
   },
   "source": [
    "### 6.3) Using the Numerical Gradient\n",
    "Recall that our generic gradient descent function takes both a function\n",
    "`f` that returns the value of our function at a given point, and `df`,\n",
    "a function that returns a gradient at a given point.  Write a function\n",
    "`minimize` that takes only a function `f` and uses this function and\n",
    "numerical gradient descent to return the local minimum.  We have\n",
    "provided you with our implementations of `num_grad` and `gd`, so you\n",
    "should not redefine them in the code box below.\n",
    "You may use the default of `delta=0.001` for `num_grad`.\n",
    "\n",
    "**Hint:** Your definition of `minimize` should call `num_grad` exactly\n",
    "once, to return a function that is called many times.\n",
    "You should return the same outputs as `gd`."
   ]
  },
  {
   "cell_type": "code",
   "execution_count": 27,
   "metadata": {
    "id": "CStwqDem76Bx"
   },
   "outputs": [],
   "source": [
    "def minimize(f, x0, step_size_fn, max_iter):\n",
    "    df = num_grad(f)\n",
    "    return gd(f, df, x0, step_size_fn, max_iter)"
   ]
  },
  {
   "cell_type": "markdown",
   "metadata": {
    "id": "4gl0FTby8EQq"
   },
   "source": [
    "The test cases are below."
   ]
  },
  {
   "cell_type": "code",
   "execution_count": 28,
   "metadata": {
    "id": "UxBLWJFm8DnV"
   },
   "outputs": [
    {
     "name": "stdout",
     "output_type": "stream",
     "text": [
      "[[[-1.5]], [9.0, 0.0], [[[0.0]], [[-1.5]]]]\n",
      "[[[-2.2058237062057517], [3.205823692967833]], [19.0, -20.967239611347775], [[[0.0], [0.0]], [[-2.2058237061948627], [3.205823692697898]]]]\n"
     ]
    }
   ],
   "source": [
    "ans = package_ans(minimize(f1, cv([0.]), lambda i: 0.1, 1000))\n",
    "print(ans)\n",
    "\n",
    "ans = package_ans(minimize(f2, cv([0., 0.]), lambda i: 0.01, 1000))\n",
    "print(ans)"
   ]
  },
  {
   "cell_type": "markdown",
   "metadata": {
    "id": "BH-1e98V8LtM"
   },
   "source": [
    "## 7) Applying gradient descent to SVM objective\n",
    "\n",
    "Now that we've implemented gradient descent in the general case, let's go back to hinge loss and the SVM objective. Our goal in this section will be to derive and implement appropriate gradient calculations that we can use with gd for optimization of the SVM objective. In the derivations below, we'll consider linear classifiers _with_ offset, i.e., $\\theta, \\theta_0$.\n",
    "\n",
    "Recall that hinge loss is defined as:\n",
    "\n",
    "$$ L_{h}(v) =\n",
    "\\begin{cases}\n",
    "    1-v, & \\text{if } v \\lt 1 \\\\\n",
    "    0, & \\text{otherwise}\n",
    "\\end{cases} $$\n",
    "\n",
    "This is usually implemented as:\n",
    "\n",
    "$$ \\it{hinge(v)} = \\max\\left\\{0,1-v\\right\\}$$\n",
    "\n",
    "The hinge loss function, in the context of our problem, takes in the distance from a point to the separator as $x$. This loss function helps us penalize a model for leaving points within a distance to our separator:\n",
    "\n",
    "$$ L_{h}(y(\\theta \\cdot x + \\theta_0)) =\n",
    "\\begin{cases}\n",
    "    1 - y(\\theta \\cdot x + \\theta_0), & \\text{if } y(\\theta \\cdot x + \\theta_0) \\lt 1 \\\\\n",
    "    0, & \\text{otherwise}\n",
    "\\end{cases} $$\n",
    "\n",
    "The SVM objective function incorporates the mean of the hinge loss over all points and introduces a regularization term to this equation to make sure that the magnitude of $\\theta$ stays small (and keeps the margin large). Note that we have used $\\lambda$ instead of $\\frac{\\lambda}{2}$ for simplicity (and without loss of generality).\n",
    "\n",
    "$$\n",
    " J(\\theta, \\theta_0) = \\left[ \\frac{1}{n} \\sum_{i=1}^{n} L_{h}(y^{(i)} (\\theta \\cdot x^{(i)} + \\theta_0)) \\right] + \\lambda \\lVert \\theta \\rVert ^2\n",
    "$$\n",
    "\n",
    "We're interested in applying our gradient descent procedure to this function in order to find the 'best' separator for our data, where 'best' is measured by the lowest possible SVM objective.\n",
    "\n",
    "\n",
    "**Note:** In this section,\n",
    "you will code many individual functions, each of which depends on previous ones.\n",
    "We **strongly recommend** that you test each of the components on your own to debug.\n",
    "\n",
    "### 7.1) Calculating the SVM objective\n",
    "\n",
    "Implement the single-argument hinge function, which computes $L_h$,\n",
    "and use that to implement hinge loss for a data point and separator.\n",
    "Using the latter function, implement the SVM objective.\n",
    "Note that these functions should work for matrix/vector arguments,\n",
    "so that we can compute the objective for a whole dataset with one call.\n",
    "<pre> x is d x n, y is 1 x n, th is d x 1, th0 is 1 x 1, lam is a scalar </pre>\n",
    "\n",
    "Hint: Look at `np.where` for implementing `hinge`."
   ]
  },
  {
   "cell_type": "code",
   "execution_count": 34,
   "metadata": {
    "id": "F_6E78BF8e2W"
   },
   "outputs": [],
   "source": [
    "def hinge(v):\n",
    "    return np.where(v < 1, 1-v, 0)\n",
    "\n",
    "# x is dxn, y is 1xn, th is dx1, th0 is 1x1\n",
    "def hinge_loss(x, y, th, th0):\n",
    "    return hinge(y * ((th.T @ x) + th0))\n",
    "\n",
    "# x is dxn, y is 1xn, th is dx1, th0 is 1x1, lam is a scalar\n",
    "def svm_obj(x, y, th, th0, lam):\n",
    "    return np.mean(hinge_loss(x, y, th, th0)) + lam * np.linalg.norm(th)"
   ]
  },
  {
   "cell_type": "code",
   "execution_count": 30,
   "metadata": {
    "id": "muPDf4etYsoy"
   },
   "outputs": [],
   "source": [
    "# add your tests here"
   ]
  },
  {
   "cell_type": "markdown",
   "metadata": {
    "id": "QY1NJEOP8jCC"
   },
   "source": [
    "In the test cases for this problem, we'll use the following\n",
    "`super_simple_separable` test dataset and test separator for some of\n",
    "the tests.  A couple of the test cases are also shown below."
   ]
  },
  {
   "cell_type": "code",
   "execution_count": 33,
   "metadata": {
    "id": "POFvK7zW8iYK"
   },
   "outputs": [
    {
     "name": "stdout",
     "output_type": "stream",
     "text": [
      "[[0. 0. 0. 0.]]\n",
      "0.12517346719850858\n",
      "[[0. 0. 0. 0.]]\n",
      "0.0\n"
     ]
    }
   ],
   "source": [
    "def super_simple_separable():\n",
    "    X = np.array([[2, 3, 9, 12],\n",
    "                  [5, 2, 6, 5]])\n",
    "    y = np.array([[1, -1, 1, -1]])\n",
    "    return X, y\n",
    "\n",
    "sep_e_separator = np.array([[-0.40338351], [1.1849563]]), np.array([[-2.26910091]])\n",
    "\n",
    "# Test case 1\n",
    "x_1, y_1 = super_simple_separable()\n",
    "th1, th1_0 = sep_e_separator\n",
    "ans = svm_obj(x_1, y_1, th1, th1_0, .1)\n",
    "print(ans)\n",
    "\n",
    "# Test case 2\n",
    "ans = svm_obj(x_1, y_1, th1, th1_0, 0.0)\n",
    "print(ans)"
   ]
  },
  {
   "cell_type": "markdown",
   "metadata": {
    "id": "ZjBB0R4u8tF1"
   },
   "source": [
    "### 7.2) Calculating the SVM gradient\n",
    "\n",
    "Define a function `svm_obj_grad` that returns the gradient of the SVM\n",
    "objective function with respect to $\\theta$ and $\\theta_0$ in a single\n",
    "column vector.  The last component of the gradient vector should be\n",
    "the partial derivative with respect to $\\theta_0$.  Look at\n",
    "`np.vstack` as a simple way of stacking two matrices/vectors\n",
    "vertically.  We have broken it down into pieces that mimic steps in\n",
    "the chain rule; this leads to code that is a bit inefficient but\n",
    "easier to write and debug.  We can worry about efficiency later."
   ]
  },
  {
   "cell_type": "code",
   "execution_count": 97,
   "metadata": {
    "id": "lAtDiGVK8vnt"
   },
   "outputs": [],
   "source": [
    "# Returns the gradient of hinge(v) with respect to v.\n",
    "def d_hinge(v):\n",
    "    return np.where(v < 1, -1, 0)\n",
    "\n",
    "# Returns the gradient of hinge_loss(x, y, th, th0) with respect to th\n",
    "def d_hinge_loss_th(x, y, th, th0):\n",
    "    return y * x * d_hinge(y * ((th.T @ x) + th0))\n",
    "\n",
    "# Returns the gradient of hinge_loss(x, y, th, th0) with respect to th0\n",
    "def d_hinge_loss_th0(x, y, th, th0):\n",
    "    return y * d_hinge(y * ((th.T @ x) + th0))\n",
    "\n",
    "# Returns the gradient of svm_obj(x, y, th, th0) with respect to th\n",
    "def d_svm_obj_th(x, y, th, th0, lam):\n",
    "    return np.mean(d_hinge_loss_th(x, y, th, th0), axis=1, keepdims=True) + 2*lam*th\n",
    "\n",
    "# Returns the gradient of svm_obj(x, y, th, th0) with respect to th0\n",
    "def d_svm_obj_th0(x, y, th, th0, lam):\n",
    "    return np.mean(d_hinge_loss_th0(x, y, th, th0), axis=1, keepdims=True)\n",
    "\n",
    "# Returns the full gradient as a single vector\n",
    "def svm_obj_grad(X, y, th, th0, lam):\n",
    "    th_gradient = d_svm_obj_th(X, y, th, th0, lam)\n",
    "    th0_gradient = d_svm_obj_th0(X, y, th, th0, lam)\n",
    "    return np.concatenate((th_gradient, th0_gradient))"
   ]
  },
  {
   "cell_type": "code",
   "execution_count": 98,
   "metadata": {
    "id": "OPjFac-nY1Z4"
   },
   "outputs": [],
   "source": [
    "# add your tests here"
   ]
  },
  {
   "cell_type": "markdown",
   "metadata": {
    "id": "LDP6H_2P80vm"
   },
   "source": [
    "Some test cases that may be of use are shown below."
   ]
  },
  {
   "cell_type": "code",
   "execution_count": 99,
   "metadata": {
    "id": "xNuF6-c38yji"
   },
   "outputs": [],
   "source": [
    "X1 = np.array([[1, 2, 3, 9, 10]])\n",
    "y1 = np.array([[1, 1, 1, -1, -1]])\n",
    "th1, th10 = np.array([[-0.31202807]]), np.array([[1.834     ]])\n",
    "X2 = np.array([[2, 3, 9, 12],\n",
    "               [5, 2, 6, 5]])\n",
    "y2 = np.array([[1, -1, 1, -1]])\n",
    "th2, th20=np.array([[ -3.,  15.]]).T, np.array([[ 2.]])"
   ]
  },
  {
   "cell_type": "code",
   "execution_count": 100,
   "metadata": {
    "id": "tZ9Q6k935tLY"
   },
   "outputs": [
    {
     "data": {
      "text/plain": [
       "[[0, -1]]"
      ]
     },
     "execution_count": 100,
     "metadata": {},
     "output_type": "execute_result"
    }
   ],
   "source": [
    "d_hinge(np.array([[ 71.]])).tolist()\n",
    "d_hinge(np.array([[ -23.]])).tolist()\n",
    "d_hinge(np.array([[ 71, -23.]])).tolist()"
   ]
  },
  {
   "cell_type": "code",
   "execution_count": 101,
   "metadata": {
    "id": "5fcjaWEo5uWo"
   },
   "outputs": [
    {
     "data": {
      "text/plain": [
       "[[0, 1, 0, 1]]"
      ]
     },
     "execution_count": 101,
     "metadata": {},
     "output_type": "execute_result"
    }
   ],
   "source": [
    "d_hinge_loss_th(X2[:,0:1], y2[:,0:1], th2, th20).tolist()\n",
    "d_hinge_loss_th(X2, y2, th2, th20).tolist()\n",
    "d_hinge_loss_th0(X2[:,0:1], y2[:,0:1], th2, th20).tolist()\n",
    "d_hinge_loss_th0(X2, y2, th2, th20).tolist()"
   ]
  },
  {
   "cell_type": "code",
   "execution_count": 102,
   "metadata": {
    "id": "FkjrEb5y5xBU"
   },
   "outputs": [
    {
     "data": {
      "text/plain": [
       "[[0.5]]"
      ]
     },
     "execution_count": 102,
     "metadata": {},
     "output_type": "execute_result"
    }
   ],
   "source": [
    "d_svm_obj_th(X2[:,0:1], y2[:,0:1], th2, th20, 0.01).tolist()\n",
    "d_svm_obj_th(X2, y2, th2, th20, 0.01).tolist()\n",
    "d_svm_obj_th0(X2[:,0:1], y2[:,0:1], th2, th20, 0.01).tolist()\n",
    "d_svm_obj_th0(X2, y2, th2, th20, 0.01).tolist()"
   ]
  },
  {
   "cell_type": "code",
   "execution_count": 103,
   "metadata": {
    "id": "BB7axWab58Lp"
   },
   "outputs": [
    {
     "data": {
      "text/plain": [
       "[[-0.06], [0.3], [0.0]]"
      ]
     },
     "execution_count": 103,
     "metadata": {},
     "output_type": "execute_result"
    }
   ],
   "source": [
    "svm_obj_grad(X2, y2, th2, th20, 0.01).tolist()\n",
    "svm_obj_grad(X2[:,0:1], y2[:,0:1], th2, th20, 0.01).tolist()"
   ]
  },
  {
   "cell_type": "markdown",
   "metadata": {
    "id": "3vf6OFEU89pC"
   },
   "source": [
    "### 7.3) Batch SVM minimize\n",
    "\n",
    "Putting it all together, use the functions you built earlier to write\n",
    "a gradient descent minimizer for the SVM objective.  You do not need\n",
    "to paste in your previous definitions; you can just call the ones\n",
    "defined by the staff.  You will need to call `gd`, which is already\n",
    "defined for you as well; your function `batch_svm_min` should return\n",
    "the values that `gd` does.\n",
    "\n",
    "* Initialize all the separator parameters to zero,\n",
    "* use the step size function provided below, and\n",
    "* specify 10 iterations."
   ]
  },
  {
   "cell_type": "code",
   "execution_count": 114,
   "metadata": {
    "id": "dIqWIYnq8_Nb"
   },
   "outputs": [],
   "source": [
    "def batch_svm_min(data, labels, lam):\n",
    "    def svm_min_step_size_fn(i):\n",
    "       return 2/(i+1)**0.5\n",
    "    max_iter = 10\n",
    "    d, n = data.shape\n",
    "    x0 = np.zeros((d+1, 1))\n",
    "    f = lambda th_th0: svm_obj(data, labels, th_th0[:-1, :], th_th0[-1:, :], lam)\n",
    "    df = lambda th_th0: svm_obj_grad(data, labels, th_th0[:-1, :], th_th0[-1:, :], lam)\n",
    "    return gd(f, df, x0, svm_min_step_size_fn, max_iter)\n",
    "        "
   ]
  },
  {
   "cell_type": "markdown",
   "metadata": {
    "id": "JH4xd7C-9BIm"
   },
   "source": [
    "Test cases are shown below, where an additional separable test\n",
    "data set has been specified."
   ]
  },
  {
   "cell_type": "code",
   "execution_count": 115,
   "metadata": {
    "id": "HgOC_i879Acd"
   },
   "outputs": [],
   "source": [
    "def separable_medium():\n",
    "    X = np.array([[2, -1, 1, 1],\n",
    "                  [-2, 2, 2, -1]])\n",
    "    y = np.array([[1, -1, 1, -1]])\n",
    "    return X, y\n",
    "sep_m_separator = np.array([[ 2.69231855], [ 0.67624906]]), np.array([[-3.02402521]])\n",
    "\n",
    "x_1, y_1 = super_simple_separable()\n",
    "ans = package_ans(batch_svm_min(x_1, y_1, 0.0001))\n",
    "\n",
    "x_1, y_1 = separable_medium()\n",
    "ans = package_ans(batch_svm_min(x_1, y_1, 0.0001))"
   ]
  },
  {
   "cell_type": "markdown",
   "metadata": {
    "id": "4tFslLvo5X9w"
   },
   "source": [
    "### 7.4) Numerical SVM objective (Optional)\n",
    "\n",
    "Recall from the previous question that we were able to closely approximate gradients\n",
    "with numerical estimates.\n",
    "We may apply the same technique to optimize the SVM objective.\n",
    "\n",
    "Using your definition of `minimize` and `num_grad` from the previous problem,\n",
    "implement a function that optimizes the SVM objective through numeric approximations.\n",
    "\n",
    "How well does this function perform, compared to the analytical result?\n",
    "Consider both accuracy and runtime."
   ]
  },
  {
   "cell_type": "code",
   "execution_count": null,
   "metadata": {
    "id": "bLt1LwN05b3k"
   },
   "outputs": [],
   "source": [
    "# your code here"
   ]
  }
 ],
 "metadata": {
  "colab": {
   "provenance": []
  },
  "kernelspec": {
   "display_name": "Python 3 (ipykernel)",
   "language": "python",
   "name": "python3"
  },
  "language_info": {
   "codemirror_mode": {
    "name": "ipython",
    "version": 3
   },
   "file_extension": ".py",
   "mimetype": "text/x-python",
   "name": "python",
   "nbconvert_exporter": "python",
   "pygments_lexer": "ipython3",
   "version": "3.8.9"
  }
 },
 "nbformat": 4,
 "nbformat_minor": 1
}
